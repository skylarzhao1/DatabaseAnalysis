{
 "cells": [
  {
   "cell_type": "code",
   "execution_count": 52,
   "id": "8a9c0eab",
   "metadata": {},
   "outputs": [],
   "source": [
    "import sqlite3\n",
    "import pandas as pd\n",
    "import os\n",
    "import pandasql\n",
    "import json \n",
    "from collections import deque"
   ]
  },
  {
   "cell_type": "code",
   "execution_count": 53,
   "id": "9fa61d7e",
   "metadata": {},
   "outputs": [],
   "source": [
    "conn = sqlite3.connect(\"readychef.db\")\n",
    "cursor = conn.cursor()"
   ]
  },
  {
   "cell_type": "code",
   "execution_count": 54,
   "id": "74f02860",
   "metadata": {},
   "outputs": [],
   "source": [
    "def execute(query, database):\n",
    "    database.execute(query)\n",
    "    database.commit()"
   ]
  },
  {
   "cell_type": "code",
   "execution_count": 55,
   "id": "283458fc",
   "metadata": {},
   "outputs": [],
   "source": [
    "def allrowsSelect(conn,query):\n",
    "    cursor = conn.execute(query)\n",
    "    for row in cursor:\n",
    "        print(row) "
   ]
  },
  {
   "cell_type": "code",
   "execution_count": 56,
   "id": "3d1499a5",
   "metadata": {},
   "outputs": [],
   "source": [
    "def execSQL(conn,query):\n",
    "    conn.execute(query) # execute an SQL query\n",
    "    conn.commit() # \"commit\" that query in order to make its action permanent"
   ]
  },
  {
   "cell_type": "code",
   "execution_count": 57,
   "id": "3db3f2f5",
   "metadata": {},
   "outputs": [
    {
     "data": {
      "text/html": [
       "<div>\n",
       "<style scoped>\n",
       "    .dataframe tbody tr th:only-of-type {\n",
       "        vertical-align: middle;\n",
       "    }\n",
       "\n",
       "    .dataframe tbody tr th {\n",
       "        vertical-align: top;\n",
       "    }\n",
       "\n",
       "    .dataframe thead th {\n",
       "        text-align: right;\n",
       "    }\n",
       "</style>\n",
       "<table border=\"1\" class=\"dataframe\">\n",
       "  <thead>\n",
       "    <tr style=\"text-align: right;\">\n",
       "      <th></th>\n",
       "      <th>_id</th>\n",
       "      <th>name</th>\n",
       "      <th>birth</th>\n",
       "      <th>death</th>\n",
       "      <th>contribs</th>\n",
       "      <th>awards</th>\n",
       "      <th>title</th>\n",
       "    </tr>\n",
       "  </thead>\n",
       "  <tbody>\n",
       "    <tr>\n",
       "      <th>0</th>\n",
       "      <td>1</td>\n",
       "      <td>{'first': 'John', 'last': 'Backus'}</td>\n",
       "      <td>1924-12-03</td>\n",
       "      <td>2007-03-17</td>\n",
       "      <td>[Fortran, ALGOL, Backus-Naur Form, FP]</td>\n",
       "      <td>[{'award': 'W.W. McDowell Award', 'year': 1967...</td>\n",
       "      <td>NaN</td>\n",
       "    </tr>\n",
       "    <tr>\n",
       "      <th>1</th>\n",
       "      <td>2</td>\n",
       "      <td>{'first': 'John', 'last': 'McCarthy'}</td>\n",
       "      <td>1927-09-04</td>\n",
       "      <td>2011-12-24</td>\n",
       "      <td>[Lisp, Artificial Intelligence, ALGOL]</td>\n",
       "      <td>[{'award': 'Turing Award', 'year': 1971, 'by':...</td>\n",
       "      <td>NaN</td>\n",
       "    </tr>\n",
       "    <tr>\n",
       "      <th>2</th>\n",
       "      <td>3</td>\n",
       "      <td>{'first': 'Grace', 'last': 'Hopper'}</td>\n",
       "      <td>1906-12-09</td>\n",
       "      <td>1992-01-01</td>\n",
       "      <td>[UNIVAC, compiler, FLOW-MATIC, COBOL]</td>\n",
       "      <td>[{'award': 'Computer Sciences Man of the Year'...</td>\n",
       "      <td>Rear Admiral</td>\n",
       "    </tr>\n",
       "    <tr>\n",
       "      <th>3</th>\n",
       "      <td>4</td>\n",
       "      <td>{'first': 'Kristen', 'last': 'Nygaard'}</td>\n",
       "      <td>1926-08-27</td>\n",
       "      <td>2002-08-10</td>\n",
       "      <td>[OOP, Simula]</td>\n",
       "      <td>[{'award': 'Rosing Prize', 'year': 1999, 'by':...</td>\n",
       "      <td>NaN</td>\n",
       "    </tr>\n",
       "    <tr>\n",
       "      <th>4</th>\n",
       "      <td>5</td>\n",
       "      <td>{'first': 'Ole-Johan', 'last': 'Dahl'}</td>\n",
       "      <td>1931-10-12</td>\n",
       "      <td>2002-06-29</td>\n",
       "      <td>[OOP, Simula]</td>\n",
       "      <td>[{'award': 'Rosing Prize', 'year': 1999, 'by':...</td>\n",
       "      <td>NaN</td>\n",
       "    </tr>\n",
       "    <tr>\n",
       "      <th>5</th>\n",
       "      <td>6</td>\n",
       "      <td>{'first': 'Guido', 'last': 'van Rossum'}</td>\n",
       "      <td>1956-01-31</td>\n",
       "      <td>NaN</td>\n",
       "      <td>[Python]</td>\n",
       "      <td>[{'award': 'Award for the Advancement of Free ...</td>\n",
       "      <td>NaN</td>\n",
       "    </tr>\n",
       "    <tr>\n",
       "      <th>6</th>\n",
       "      <td>7</td>\n",
       "      <td>{'first': 'Dennis', 'last': 'Ritchie'}</td>\n",
       "      <td>1941-09-09</td>\n",
       "      <td>2011-10-12</td>\n",
       "      <td>[UNIX, C]</td>\n",
       "      <td>[{'award': 'Turing Award', 'year': 1983, 'by':...</td>\n",
       "      <td>NaN</td>\n",
       "    </tr>\n",
       "    <tr>\n",
       "      <th>7</th>\n",
       "      <td>8</td>\n",
       "      <td>{'first': 'Yukihiro', 'aka': 'Matz', 'last': '...</td>\n",
       "      <td>1965-04-14</td>\n",
       "      <td>NaN</td>\n",
       "      <td>[Ruby]</td>\n",
       "      <td>[{'award': 'Award for the Advancement of Free ...</td>\n",
       "      <td>NaN</td>\n",
       "    </tr>\n",
       "    <tr>\n",
       "      <th>8</th>\n",
       "      <td>9</td>\n",
       "      <td>{'first': 'James', 'last': 'Gosling'}</td>\n",
       "      <td>1955-05-19</td>\n",
       "      <td>NaN</td>\n",
       "      <td>[Java]</td>\n",
       "      <td>[{'award': 'The Economist Innovation Award', '...</td>\n",
       "      <td>NaN</td>\n",
       "    </tr>\n",
       "    <tr>\n",
       "      <th>9</th>\n",
       "      <td>10</td>\n",
       "      <td>{'first': 'Martin', 'last': 'Odersky'}</td>\n",
       "      <td>NaN</td>\n",
       "      <td>NaN</td>\n",
       "      <td>[Scala]</td>\n",
       "      <td>NaN</td>\n",
       "      <td>NaN</td>\n",
       "    </tr>\n",
       "  </tbody>\n",
       "</table>\n",
       "</div>"
      ],
      "text/plain": [
       "   _id                                               name       birth  \\\n",
       "0    1                {'first': 'John', 'last': 'Backus'}  1924-12-03   \n",
       "1    2              {'first': 'John', 'last': 'McCarthy'}  1927-09-04   \n",
       "2    3               {'first': 'Grace', 'last': 'Hopper'}  1906-12-09   \n",
       "3    4            {'first': 'Kristen', 'last': 'Nygaard'}  1926-08-27   \n",
       "4    5             {'first': 'Ole-Johan', 'last': 'Dahl'}  1931-10-12   \n",
       "5    6           {'first': 'Guido', 'last': 'van Rossum'}  1956-01-31   \n",
       "6    7             {'first': 'Dennis', 'last': 'Ritchie'}  1941-09-09   \n",
       "7    8  {'first': 'Yukihiro', 'aka': 'Matz', 'last': '...  1965-04-14   \n",
       "8    9              {'first': 'James', 'last': 'Gosling'}  1955-05-19   \n",
       "9   10             {'first': 'Martin', 'last': 'Odersky'}         NaN   \n",
       "\n",
       "        death                                contribs  \\\n",
       "0  2007-03-17  [Fortran, ALGOL, Backus-Naur Form, FP]   \n",
       "1  2011-12-24  [Lisp, Artificial Intelligence, ALGOL]   \n",
       "2  1992-01-01   [UNIVAC, compiler, FLOW-MATIC, COBOL]   \n",
       "3  2002-08-10                           [OOP, Simula]   \n",
       "4  2002-06-29                           [OOP, Simula]   \n",
       "5         NaN                                [Python]   \n",
       "6  2011-10-12                               [UNIX, C]   \n",
       "7         NaN                                  [Ruby]   \n",
       "8         NaN                                  [Java]   \n",
       "9         NaN                                 [Scala]   \n",
       "\n",
       "                                              awards         title  \n",
       "0  [{'award': 'W.W. McDowell Award', 'year': 1967...           NaN  \n",
       "1  [{'award': 'Turing Award', 'year': 1971, 'by':...           NaN  \n",
       "2  [{'award': 'Computer Sciences Man of the Year'...  Rear Admiral  \n",
       "3  [{'award': 'Rosing Prize', 'year': 1999, 'by':...           NaN  \n",
       "4  [{'award': 'Rosing Prize', 'year': 1999, 'by':...           NaN  \n",
       "5  [{'award': 'Award for the Advancement of Free ...           NaN  \n",
       "6  [{'award': 'Turing Award', 'year': 1983, 'by':...           NaN  \n",
       "7  [{'award': 'Award for the Advancement of Free ...           NaN  \n",
       "8  [{'award': 'The Economist Innovation Award', '...           NaN  \n",
       "9                                                NaN           NaN  "
      ]
     },
     "execution_count": 57,
     "metadata": {},
     "output_type": "execute_result"
    }
   ],
   "source": [
    "#q1\n",
    "bio=pd.read_json('bios.json')\n",
    "bio\n",
    "\n"
   ]
  },
  {
   "cell_type": "code",
   "execution_count": 58,
   "id": "4fda5e93",
   "metadata": {},
   "outputs": [],
   "source": [
    "#The main table  computer_scientists should contain id, last, first, birth, death\n",
    "# second table named  contribs id, contribution\n",
    "# third table id, awards \n",
    "#forth table named duration, id, time \n",
    "# fivth \n"
   ]
  },
  {
   "cell_type": "code",
   "execution_count": 59,
   "id": "e4a23f12",
   "metadata": {},
   "outputs": [
    {
     "data": {
      "text/html": [
       "<div>\n",
       "<style scoped>\n",
       "    .dataframe tbody tr th:only-of-type {\n",
       "        vertical-align: middle;\n",
       "    }\n",
       "\n",
       "    .dataframe tbody tr th {\n",
       "        vertical-align: top;\n",
       "    }\n",
       "\n",
       "    .dataframe thead th {\n",
       "        text-align: right;\n",
       "    }\n",
       "</style>\n",
       "<table border=\"1\" class=\"dataframe\">\n",
       "  <thead>\n",
       "    <tr style=\"text-align: right;\">\n",
       "      <th></th>\n",
       "      <th>_id</th>\n",
       "      <th>awards</th>\n",
       "    </tr>\n",
       "  </thead>\n",
       "  <tbody>\n",
       "    <tr>\n",
       "      <th>0</th>\n",
       "      <td>1</td>\n",
       "      <td>{'award': 'W.W. McDowell Award', 'year': 1967,...</td>\n",
       "    </tr>\n",
       "    <tr>\n",
       "      <th>1</th>\n",
       "      <td>1</td>\n",
       "      <td>{'award': 'National Medal of Science', 'year':...</td>\n",
       "    </tr>\n",
       "    <tr>\n",
       "      <th>2</th>\n",
       "      <td>1</td>\n",
       "      <td>{'award': 'Turing Award', 'year': 1977, 'by': ...</td>\n",
       "    </tr>\n",
       "    <tr>\n",
       "      <th>3</th>\n",
       "      <td>1</td>\n",
       "      <td>{'award': 'Draper Prize', 'year': 1993, 'by': ...</td>\n",
       "    </tr>\n",
       "    <tr>\n",
       "      <th>4</th>\n",
       "      <td>2</td>\n",
       "      <td>{'award': 'Turing Award', 'year': 1971, 'by': ...</td>\n",
       "    </tr>\n",
       "  </tbody>\n",
       "</table>\n",
       "</div>"
      ],
      "text/plain": [
       "   _id                                             awards\n",
       "0    1  {'award': 'W.W. McDowell Award', 'year': 1967,...\n",
       "1    1  {'award': 'National Medal of Science', 'year':...\n",
       "2    1  {'award': 'Turing Award', 'year': 1977, 'by': ...\n",
       "3    1  {'award': 'Draper Prize', 'year': 1993, 'by': ...\n",
       "4    2  {'award': 'Turing Award', 'year': 1971, 'by': ..."
      ]
     },
     "execution_count": 59,
     "metadata": {},
     "output_type": "execute_result"
    }
   ],
   "source": [
    "awards = bio[['_id','awards']]\n",
    "awards = awards.explode('awards', ignore_index=True)\n",
    "awards.head()"
   ]
  },
  {
   "cell_type": "code",
   "execution_count": 60,
   "id": "45ce8559",
   "metadata": {},
   "outputs": [],
   "source": [
    "query='''\n",
    "\n",
    "DROP TABLE IF EXISTS  computerscientists\n",
    "'''\n",
    "execSQL(conn,query)"
   ]
  },
  {
   "cell_type": "code",
   "execution_count": 61,
   "id": "d3759496",
   "metadata": {},
   "outputs": [],
   "source": [
    "Table1='''\n",
    "\n",
    "CREATE TABLE computerscientists (\n",
    " \"id\" INTEGER,\n",
    "\"first\"\tTEXT,\n",
    "\"last\"\tTEXT,\n",
    "\"aka\"\tTEXT,\n",
    "\"birth\"\tTEXT,\n",
    "\"death\"\tTEXT,\n",
    "PRIMARY KEY(\"id\")\n",
    ");\n",
    "'''\n",
    "\n",
    "execSQL(conn,Table1)"
   ]
  },
  {
   "cell_type": "code",
   "execution_count": 62,
   "id": "307cfb60",
   "metadata": {},
   "outputs": [],
   "source": [
    "query='''\n",
    "\n",
    "DROP TABLE IF EXISTS  awards\n",
    "'''\n",
    "execSQL(conn,query)"
   ]
  },
  {
   "cell_type": "code",
   "execution_count": 63,
   "id": "f4cf3471",
   "metadata": {},
   "outputs": [],
   "source": [
    "Table2='''\n",
    "CREATE TABLE awards (\n",
    "       id integer primary key,\n",
    "    award text,\n",
    "    year text,\n",
    "    by text\n",
    " \n",
    ");\n",
    "'''\n",
    "\n",
    "execSQL(conn,Table2)"
   ]
  },
  {
   "cell_type": "code",
   "execution_count": 64,
   "id": "0bc09ba8",
   "metadata": {},
   "outputs": [],
   "source": [
    "db = sqlite3.connect('Bio.db')"
   ]
  },
  {
   "cell_type": "code",
   "execution_count": 65,
   "id": "066d0691",
   "metadata": {},
   "outputs": [],
   "source": [
    "execute(\"PRAGMA foreign_keys=ON\", db)\n",
    "cursor=db.cursor()"
   ]
  },
  {
   "cell_type": "code",
   "execution_count": 66,
   "id": "893cee85",
   "metadata": {},
   "outputs": [
    {
     "data": {
      "text/html": [
       "<div>\n",
       "<style scoped>\n",
       "    .dataframe tbody tr th:only-of-type {\n",
       "        vertical-align: middle;\n",
       "    }\n",
       "\n",
       "    .dataframe tbody tr th {\n",
       "        vertical-align: top;\n",
       "    }\n",
       "\n",
       "    .dataframe thead th {\n",
       "        text-align: right;\n",
       "    }\n",
       "</style>\n",
       "<table border=\"1\" class=\"dataframe\">\n",
       "  <thead>\n",
       "    <tr style=\"text-align: right;\">\n",
       "      <th></th>\n",
       "      <th>_id</th>\n",
       "      <th>awards</th>\n",
       "    </tr>\n",
       "  </thead>\n",
       "  <tbody>\n",
       "    <tr>\n",
       "      <th>0</th>\n",
       "      <td>1</td>\n",
       "      <td>{'award': 'W.W. McDowell Award', 'year': 1967,...</td>\n",
       "    </tr>\n",
       "    <tr>\n",
       "      <th>1</th>\n",
       "      <td>1</td>\n",
       "      <td>{'award': 'National Medal of Science', 'year':...</td>\n",
       "    </tr>\n",
       "    <tr>\n",
       "      <th>2</th>\n",
       "      <td>1</td>\n",
       "      <td>{'award': 'Turing Award', 'year': 1977, 'by': ...</td>\n",
       "    </tr>\n",
       "    <tr>\n",
       "      <th>3</th>\n",
       "      <td>1</td>\n",
       "      <td>{'award': 'Draper Prize', 'year': 1993, 'by': ...</td>\n",
       "    </tr>\n",
       "    <tr>\n",
       "      <th>4</th>\n",
       "      <td>2</td>\n",
       "      <td>{'award': 'Turing Award', 'year': 1971, 'by': ...</td>\n",
       "    </tr>\n",
       "  </tbody>\n",
       "</table>\n",
       "</div>"
      ],
      "text/plain": [
       "   _id                                             awards\n",
       "0    1  {'award': 'W.W. McDowell Award', 'year': 1967,...\n",
       "1    1  {'award': 'National Medal of Science', 'year':...\n",
       "2    1  {'award': 'Turing Award', 'year': 1977, 'by': ...\n",
       "3    1  {'award': 'Draper Prize', 'year': 1993, 'by': ...\n",
       "4    2  {'award': 'Turing Award', 'year': 1971, 'by': ..."
      ]
     },
     "execution_count": 66,
     "metadata": {},
     "output_type": "execute_result"
    }
   ],
   "source": [
    "bio['awards'][0]\n",
    "awards = bio[['_id','awards']]\n",
    "awards = awards.explode('awards', ignore_index=True).dropna()\n",
    "awards.head()\n"
   ]
  },
  {
   "cell_type": "code",
   "execution_count": 67,
   "id": "dfeb073f",
   "metadata": {},
   "outputs": [
    {
     "data": {
      "text/html": [
       "<div>\n",
       "<style scoped>\n",
       "    .dataframe tbody tr th:only-of-type {\n",
       "        vertical-align: middle;\n",
       "    }\n",
       "\n",
       "    .dataframe tbody tr th {\n",
       "        vertical-align: top;\n",
       "    }\n",
       "\n",
       "    .dataframe thead th {\n",
       "        text-align: right;\n",
       "    }\n",
       "</style>\n",
       "<table border=\"1\" class=\"dataframe\">\n",
       "  <thead>\n",
       "    <tr style=\"text-align: right;\">\n",
       "      <th></th>\n",
       "      <th>_id</th>\n",
       "      <th>contribs</th>\n",
       "    </tr>\n",
       "  </thead>\n",
       "  <tbody>\n",
       "    <tr>\n",
       "      <th>0</th>\n",
       "      <td>1</td>\n",
       "      <td>Fortran</td>\n",
       "    </tr>\n",
       "    <tr>\n",
       "      <th>1</th>\n",
       "      <td>1</td>\n",
       "      <td>ALGOL</td>\n",
       "    </tr>\n",
       "    <tr>\n",
       "      <th>2</th>\n",
       "      <td>1</td>\n",
       "      <td>Backus-Naur Form</td>\n",
       "    </tr>\n",
       "    <tr>\n",
       "      <th>3</th>\n",
       "      <td>1</td>\n",
       "      <td>FP</td>\n",
       "    </tr>\n",
       "    <tr>\n",
       "      <th>4</th>\n",
       "      <td>2</td>\n",
       "      <td>Lisp</td>\n",
       "    </tr>\n",
       "  </tbody>\n",
       "</table>\n",
       "</div>"
      ],
      "text/plain": [
       "   _id          contribs\n",
       "0    1           Fortran\n",
       "1    1             ALGOL\n",
       "2    1  Backus-Naur Form\n",
       "3    1                FP\n",
       "4    2              Lisp"
      ]
     },
     "execution_count": 67,
     "metadata": {},
     "output_type": "execute_result"
    }
   ],
   "source": [
    "contributions = bio[['_id','contribs']]\n",
    "contributions = contributions.explode('contribs', ignore_index=True)\n",
    "contributions.head()"
   ]
  },
  {
   "cell_type": "code",
   "execution_count": 68,
   "id": "2d21db98",
   "metadata": {},
   "outputs": [
    {
     "data": {
      "text/html": [
       "<div>\n",
       "<style scoped>\n",
       "    .dataframe tbody tr th:only-of-type {\n",
       "        vertical-align: middle;\n",
       "    }\n",
       "\n",
       "    .dataframe tbody tr th {\n",
       "        vertical-align: top;\n",
       "    }\n",
       "\n",
       "    .dataframe thead th {\n",
       "        text-align: right;\n",
       "    }\n",
       "</style>\n",
       "<table border=\"1\" class=\"dataframe\">\n",
       "  <thead>\n",
       "    <tr style=\"text-align: right;\">\n",
       "      <th></th>\n",
       "      <th>first</th>\n",
       "      <th>last</th>\n",
       "      <th>aka</th>\n",
       "      <th>_id</th>\n",
       "      <th>birth</th>\n",
       "      <th>death</th>\n",
       "    </tr>\n",
       "  </thead>\n",
       "  <tbody>\n",
       "    <tr>\n",
       "      <th>0</th>\n",
       "      <td>John</td>\n",
       "      <td>Backus</td>\n",
       "      <td>NaN</td>\n",
       "      <td>1</td>\n",
       "      <td>1924-12-03</td>\n",
       "      <td>2007-03-17</td>\n",
       "    </tr>\n",
       "    <tr>\n",
       "      <th>1</th>\n",
       "      <td>John</td>\n",
       "      <td>McCarthy</td>\n",
       "      <td>NaN</td>\n",
       "      <td>2</td>\n",
       "      <td>1927-09-04</td>\n",
       "      <td>2011-12-24</td>\n",
       "    </tr>\n",
       "    <tr>\n",
       "      <th>2</th>\n",
       "      <td>Grace</td>\n",
       "      <td>Hopper</td>\n",
       "      <td>NaN</td>\n",
       "      <td>3</td>\n",
       "      <td>1906-12-09</td>\n",
       "      <td>1992-01-01</td>\n",
       "    </tr>\n",
       "    <tr>\n",
       "      <th>3</th>\n",
       "      <td>Kristen</td>\n",
       "      <td>Nygaard</td>\n",
       "      <td>NaN</td>\n",
       "      <td>4</td>\n",
       "      <td>1926-08-27</td>\n",
       "      <td>2002-08-10</td>\n",
       "    </tr>\n",
       "    <tr>\n",
       "      <th>4</th>\n",
       "      <td>Ole-Johan</td>\n",
       "      <td>Dahl</td>\n",
       "      <td>NaN</td>\n",
       "      <td>5</td>\n",
       "      <td>1931-10-12</td>\n",
       "      <td>2002-06-29</td>\n",
       "    </tr>\n",
       "  </tbody>\n",
       "</table>\n",
       "</div>"
      ],
      "text/plain": [
       "       first      last  aka  _id       birth       death\n",
       "0       John    Backus  NaN    1  1924-12-03  2007-03-17\n",
       "1       John  McCarthy  NaN    2  1927-09-04  2011-12-24\n",
       "2      Grace    Hopper  NaN    3  1906-12-09  1992-01-01\n",
       "3    Kristen   Nygaard  NaN    4  1926-08-27  2002-08-10\n",
       "4  Ole-Johan      Dahl  NaN    5  1931-10-12  2002-06-29"
      ]
     },
     "execution_count": 68,
     "metadata": {},
     "output_type": "execute_result"
    }
   ],
   "source": [
    "computerscientists = bio['name']\n",
    "computerscientists.head()\n",
    "computerscientists = pd.json_normalize(computerscientists)\n",
    "computerscientists[['_id','birth','death']] = bio[['_id','birth','death']]\n",
    "computerscientists.head()"
   ]
  },
  {
   "cell_type": "code",
   "execution_count": 69,
   "id": "a473c120",
   "metadata": {},
   "outputs": [],
   "source": [
    "title = bio[['_id','title']]\n",
    "duration=bio[['_id','birth','death']]"
   ]
  },
  {
   "cell_type": "code",
   "execution_count": 70,
   "id": "9012ce25",
   "metadata": {},
   "outputs": [],
   "source": [
    "query='''\n",
    "\n",
    "DROP TABLE IF EXISTS  duration\n",
    "'''\n",
    "execSQL(conn,query)"
   ]
  },
  {
   "cell_type": "code",
   "execution_count": 71,
   "id": "b589def9",
   "metadata": {},
   "outputs": [],
   "source": [
    "Table3='''\n",
    "CREATE TABLE duration (\n",
    " \"id\" INTEGER,\n",
    " \"birth\" TEXT,\n",
    " \"death\" TEXT\n",
    ");\n",
    "'''\n",
    "\n",
    "execSQL(conn,Table3)"
   ]
  },
  {
   "cell_type": "code",
   "execution_count": 72,
   "id": "92a42164",
   "metadata": {},
   "outputs": [],
   "source": [
    "query='''\n",
    "\n",
    "DROP TABLE IF EXISTS  contributions\n",
    "'''\n",
    "execSQL(conn,query)"
   ]
  },
  {
   "cell_type": "code",
   "execution_count": 73,
   "id": "b63985ec",
   "metadata": {},
   "outputs": [],
   "source": [
    "Table4='''\n",
    "CREATE TABLE contributions (\n",
    "   id integer primary key,\n",
    "    contribution text\n",
    "\t\n",
    ");\n",
    "'''\n",
    "\n",
    "execSQL(conn,Table4)"
   ]
  },
  {
   "cell_type": "code",
   "execution_count": 74,
   "id": "af34eb6b",
   "metadata": {},
   "outputs": [],
   "source": [
    "query='''\n",
    "\n",
    "DROP TABLE IF EXISTS  title\n",
    "'''\n",
    "execSQL(conn,query)"
   ]
  },
  {
   "cell_type": "code",
   "execution_count": 75,
   "id": "71ae8b64",
   "metadata": {},
   "outputs": [],
   "source": [
    "Table5='''\n",
    "CREATE TABLE title(\n",
    "    id integer ,\n",
    "    title text,\n",
    "   FOREIGN KEY (id) REFERENCES computerscientists(id)\n",
    "  \n",
    ");\n",
    "'''\n",
    "\n",
    "execSQL(conn,Table5)"
   ]
  },
  {
   "cell_type": "code",
   "execution_count": 76,
   "id": "844a4d2e",
   "metadata": {},
   "outputs": [],
   "source": [
    "import csv\n",
    "cursor = conn.cursor()\n",
    "title.to_csv('title.csv', index = False)\n",
    "duration.to_csv('duration.csv', index = False)"
   ]
  },
  {
   "cell_type": "code",
   "execution_count": 77,
   "id": "0b5ee4b9",
   "metadata": {},
   "outputs": [],
   "source": [
    "contributions.to_csv('contributions.csv', index = False)\n",
    "computerscientists.to_csv('computerscientists.csv', index = False)\n",
    "awards.to_csv('awards.csv', index = False)"
   ]
  },
  {
   "cell_type": "code",
   "execution_count": 78,
   "id": "7d48ed46",
   "metadata": {},
   "outputs": [
    {
     "name": "stdout",
     "output_type": "stream",
     "text": [
      "(1, '')\n",
      "(2, '')\n",
      "(3, 'Rear Admiral')\n",
      "(4, '')\n",
      "(5, '')\n",
      "(6, '')\n",
      "(7, '')\n",
      "(8, '')\n",
      "(9, '')\n",
      "(10, '')\n"
     ]
    }
   ],
   "source": [
    "file = open('title.csv')\n",
    "\n",
    "c = csv.reader(file)\n",
    "next(c)\n",
    "\n",
    "n = \"INSERT INTO title(id, title) VALUES(?, ?)\"\n",
    "\n",
    "cursor.executemany(n, c)\n",
    "\n",
    "select_all = \"SELECT * FROM title\"\n",
    "rows = cursor.execute(select_all).fetchall()\n",
    " \n",
    "for r in rows:\n",
    "    print(r)\n",
    "conn.commit()"
   ]
  },
  {
   "cell_type": "code",
   "execution_count": 79,
   "id": "a808d034",
   "metadata": {},
   "outputs": [
    {
     "name": "stdout",
     "output_type": "stream",
     "text": [
      "(1, 'John', 'Backus', '', '1924-12-03', '2007-03-17')\n",
      "(2, 'John', 'McCarthy', '', '1927-09-04', '2011-12-24')\n",
      "(3, 'Grace', 'Hopper', '', '1906-12-09', '1992-01-01')\n",
      "(4, 'Kristen', 'Nygaard', '', '1926-08-27', '2002-08-10')\n",
      "(5, 'Ole-Johan', 'Dahl', '', '1931-10-12', '2002-06-29')\n",
      "(6, 'Guido', 'van Rossum', '', '1956-01-31', '')\n",
      "(7, 'Dennis', 'Ritchie', '', '1941-09-09', '2011-10-12')\n",
      "(8, 'Yukihiro', 'Matsumoto', 'Matz', '1965-04-14', '')\n",
      "(9, 'James', 'Gosling', '', '1955-05-19', '')\n",
      "(10, 'Martin', 'Odersky', '', '', '')\n"
     ]
    }
   ],
   "source": [
    "file = open('computerscientists.csv')\n",
    "c = csv.reader(file)\n",
    "next(c)\n",
    "i = \"INSERT or IGNORE INTO computerscientists(first,last,aka, id, birth,death) VALUES(?, ?,?,?,?,?)\"\n",
    "cursor.executemany(i, c)\n",
    "select_all = \"SELECT * FROM computerscientists\"\n",
    "rows = cursor.execute(select_all).fetchall()\n",
    "for r in rows:\n",
    "    print(r)\n",
    "conn.commit()"
   ]
  },
  {
   "cell_type": "code",
   "execution_count": 80,
   "id": "9aa601b8",
   "metadata": {},
   "outputs": [
    {
     "name": "stdout",
     "output_type": "stream",
     "text": [
      "(1, 'Fortran')\n",
      "(2, 'Lisp')\n",
      "(3, 'UNIVAC')\n",
      "(4, 'OOP')\n",
      "(5, 'OOP')\n",
      "(6, 'Python')\n",
      "(7, 'UNIX')\n",
      "(8, 'Ruby')\n",
      "(9, 'Java')\n",
      "(10, 'Scala')\n"
     ]
    }
   ],
   "source": [
    "\n",
    "file = open('contributions.csv')\n",
    "c = csv.reader(file)\n",
    "next(c)\n",
    "n = \"INSERT or IGNORE INTO  contributions(id, contribution) VALUES(?, ?)\"\n",
    "cursor.executemany(n, c)\n",
    "select_all = \"SELECT * FROM  contributions\"\n",
    "rows = cursor.execute(select_all).fetchall()\n",
    "\n",
    "for r in rows:\n",
    "    print(r)\n",
    "\n",
    "conn.commit()"
   ]
  },
  {
   "cell_type": "code",
   "execution_count": 81,
   "id": "2ae82083",
   "metadata": {},
   "outputs": [
    {
     "name": "stdout",
     "output_type": "stream",
     "text": [
      "(1, \"{'award': 'W.W. McDowell Award', 'year': 1967, 'by': 'IEEE Computer Society'}\", None, None)\n",
      "(2, \"{'award': 'Turing Award', 'year': 1971, 'by': 'ACM'}\", None, None)\n",
      "(3, \"{'award': 'Computer Sciences Man of the Year', 'year': 1969, 'by': 'Data Processing Management Association'}\", None, None)\n",
      "(4, \"{'award': 'Rosing Prize', 'year': 1999, 'by': 'Norwegian Data Association'}\", None, None)\n",
      "(5, \"{'award': 'Rosing Prize', 'year': 1999, 'by': 'Norwegian Data Association'}\", None, None)\n",
      "(6, \"{'award': 'Award for the Advancement of Free Software', 'year': 2001, 'by': 'Free Software Foundation'}\", None, None)\n",
      "(7, \"{'award': 'Turing Award', 'year': 1983, 'by': 'ACM'}\", None, None)\n",
      "(8, \"{'award': 'Award for the Advancement of Free Software', 'year': '2011', 'by': 'Free Software Foundation'}\", None, None)\n",
      "(9, \"{'award': 'The Economist Innovation Award', 'year': 2002, 'by': 'The Economist'}\", None, None)\n"
     ]
    }
   ],
   "source": [
    "file = open('awards.csv')\n",
    "\n",
    "c = csv.reader(file)\n",
    "next(c)\n",
    "\n",
    "i = \"INSERT or IGNORE into awards(id, award) VALUES(?, ?)\"\n",
    "\n",
    "cursor.executemany(i, c)\n",
    "\n",
    "select_all = \"SELECT * FROM awards\"\n",
    "rows = cursor.execute(select_all).fetchall()\n",
    "\n",
    "for r in rows:\n",
    "    print(r)\n"
   ]
  },
  {
   "cell_type": "code",
   "execution_count": 82,
   "id": "810318c0",
   "metadata": {},
   "outputs": [
    {
     "name": "stdout",
     "output_type": "stream",
     "text": [
      "(1, 'John', 'Backus', '', '1924-12-03', '2007-03-17')\n",
      "(2, 'John', 'McCarthy', '', '1927-09-04', '2011-12-24')\n",
      "(3, 'Grace', 'Hopper', '', '1906-12-09', '1992-01-01')\n",
      "(4, 'Kristen', 'Nygaard', '', '1926-08-27', '2002-08-10')\n",
      "(5, 'Ole-Johan', 'Dahl', '', '1931-10-12', '2002-06-29')\n",
      "(6, 'Guido', 'van Rossum', '', '1956-01-31', '')\n",
      "(7, 'Dennis', 'Ritchie', '', '1941-09-09', '2011-10-12')\n",
      "(8, 'Yukihiro', 'Matsumoto', 'Matz', '1965-04-14', '')\n",
      "(9, 'James', 'Gosling', '', '1955-05-19', '')\n",
      "(10, 'Martin', 'Odersky', '', '', '')\n"
     ]
    },
    {
     "data": {
      "text/plain": [
       "<function Connection.commit>"
      ]
     },
     "execution_count": 82,
     "metadata": {},
     "output_type": "execute_result"
    }
   ],
   "source": [
    "file = open('computerscientists.csv')\n",
    "\n",
    "c = csv.reader(file)\n",
    "next(c)\n",
    "\n",
    "i = \"INSERT or IGNORE INTO computerscientists(first,last,aka, id, birth,death) VALUES(?, ?,?,?,?,?)\"\n",
    "\n",
    "cursor.executemany(i, c)\n",
    "\n",
    "select_all = \"SELECT * FROM computerscientists\"\n",
    "rows = cursor.execute(select_all).fetchall()\n",
    "\n",
    "for r in rows:\n",
    "    print(r)\n",
    "\n",
    "conn.commit"
   ]
  },
  {
   "cell_type": "code",
   "execution_count": 83,
   "id": "0fd21709",
   "metadata": {},
   "outputs": [
    {
     "name": "stdout",
     "output_type": "stream",
     "text": [
      "(0.9,)\n"
     ]
    }
   ],
   "source": [
    "query='''\n",
    "select (total_awards * 1.0)/total_scientists as avg_awards from\n",
    "(select\n",
    "(select count(*) from awards) as total_awards,\n",
    "(select count(*) from computerscientists) as total_scientists)\n",
    "'''\n",
    "allrowsSelect(conn,query)"
   ]
  },
  {
   "cell_type": "code",
   "execution_count": 84,
   "id": "c6c74001",
   "metadata": {},
   "outputs": [
    {
     "name": "stdout",
     "output_type": "stream",
     "text": [
      "(50, 363)\n"
     ]
    }
   ],
   "source": [
    "#q2 What is the user id of the user that visited the site most frequently? \n",
    "\n",
    "# answer:userid 50\n",
    "query='''\n",
    "select distinct userid,count(*) As num_visit\n",
    "from visits \n",
    "group by userid\n",
    "order by  num_visit desc\n",
    "limit 1\n",
    "\n",
    "\n",
    "'''\n",
    "allrowsSelect(conn,query)"
   ]
  },
  {
   "cell_type": "code",
   "execution_count": 85,
   "id": "12974d0a",
   "metadata": {},
   "outputs": [
    {
     "name": "stdout",
     "output_type": "stream",
     "text": [
      "(9.52,)\n"
     ]
    }
   ],
   "source": [
    "#q3\n",
    "\n",
    "#answer: 9.52\n",
    "query='''\n",
    "select round(avg(price), 2)\n",
    "from meals\n",
    "where type = 'chinese';\n",
    "\n",
    "'''\n",
    "allrowsSelect(conn,query)"
   ]
  },
  {
   "cell_type": "code",
   "execution_count": 86,
   "id": "caaa02dc",
   "metadata": {},
   "outputs": [
    {
     "name": "stdout",
     "output_type": "stream",
     "text": [
      "(129, 101)\n"
     ]
    }
   ],
   "source": [
    "#q4 What user bought the most meals?\n",
    "\n",
    "# answer: 129\n",
    "query='''\n",
    "select userid, count(*) As num_purchase\n",
    "from events\n",
    "where event=='bought'\n",
    "group by userid\n",
    "order by num_purchase desc\n",
    "limit 1\n",
    "\n",
    "\n",
    "\n",
    "\n",
    "\n",
    "'''\n",
    "allrowsSelect(conn,query)\n"
   ]
  },
  {
   "cell_type": "code",
   "execution_count": 87,
   "id": "db425cbc",
   "metadata": {},
   "outputs": [
    {
     "name": "stdout",
     "output_type": "stream",
     "text": [
      "(6,)\n"
     ]
    }
   ],
   "source": [
    "#q5 Quite a few users are tied for the most other users referred. For these top  referrers, what is the number of other users referred?\n",
    "\n",
    "#Answer 6 times\n",
    "query='''\n",
    "\n",
    "select DISTINCT count(referred_by) AS num_Referred\n",
    "From referrals\n",
    "group BY referred_by\n",
    "\n",
    "order BY num_Referred DESC\n",
    "LIMIT 1;\n",
    "'''\n",
    "allrowsSelect(conn,query)"
   ]
  },
  {
   "cell_type": "code",
   "execution_count": 88,
   "id": "f91ad3d5",
   "metadata": {},
   "outputs": [
    {
     "name": "stdout",
     "output_type": "stream",
     "text": [
      "('italian', 45289)\n"
     ]
    }
   ],
   "source": [
    "#q6 What type of meal was most frequently shared by the user who bought the most  meals? \n",
    "# meals events inner join \n",
    "\n",
    "\n",
    "#answer: italian\n",
    "query='''\n",
    "select m.type,count(et.userid) as res\n",
    "from meals m\n",
    "inner join events et on et.meal_id=m.meal_id\n",
    "where et.event==\"share\"\n",
    "group by m.type\n",
    "order by res\n",
    "desc\n",
    "limit 1\n",
    "\n",
    "'''\n",
    "allrowsSelect(conn,query)"
   ]
  },
  {
   "cell_type": "code",
   "execution_count": 89,
   "id": "ed939d20",
   "metadata": {},
   "outputs": [
    {
     "name": "stdout",
     "output_type": "stream",
     "text": [
      "(10,)\n"
     ]
    }
   ],
   "source": [
    "#q7 Using a window function, assign a quintile from 1 to 5 to each meal based on the  price with quintile 1 having the highest price and quintile 5 the lowest. What is  the lowest price in quintile 3?\n",
    "\n",
    "#Answer: price 10\n",
    "query='''\n",
    "\n",
    "select min(price) from (\n",
    "    select meal_id, price,\n",
    "    ntile(5) over (order by price desc) percentile\n",
    "    from meals\n",
    ") a\n",
    "where a.percentile = 3\n",
    "\n",
    "'''\n",
    "allrowsSelect(conn,query)"
   ]
  },
  {
   "cell_type": "code",
   "execution_count": 90,
   "id": "9d01c698",
   "metadata": {},
   "outputs": [],
   "source": [
    "#q8\n",
    "\n",
    "#answer: chinese, french italian\n",
    "\n",
    "query='''\n",
    "drop view if exists next_meal\n",
    "'''\n",
    "execSQL(conn,query)"
   ]
  },
  {
   "cell_type": "code",
   "execution_count": 91,
   "id": "3bf8d68d",
   "metadata": {},
   "outputs": [],
   "source": [
    "#q8\n",
    "\n",
    "query='''\n",
    "create view next_meal as\n",
    "select userid, events.dt as current_date, m.type as current_meal_type,\n",
    " lead(m.type, 1) over (partition by userid order by events.dt) as next_meal\n",
    "from events inner join meals m on events.meal_id = m.meal_id where event = 'bought';\n",
    "\n",
    "\n",
    "'''\n",
    "allrowsSelect(conn,query)"
   ]
  },
  {
   "cell_type": "code",
   "execution_count": 92,
   "id": "c5c526a9",
   "metadata": {},
   "outputs": [
    {
     "name": "stdout",
     "output_type": "stream",
     "text": [
      "('chinese',)\n",
      "('french',)\n",
      "('italian',)\n"
     ]
    }
   ],
   "source": [
    "query='''\n",
    "select current_meal_type from next_meal where userid = 2 limit 3;\n",
    "\n",
    "'''\n",
    "allrowsSelect(conn,query)"
   ]
  },
  {
   "cell_type": "code",
   "execution_count": 93,
   "id": "cf8b06a1",
   "metadata": {},
   "outputs": [
    {
     "name": "stdout",
     "output_type": "stream",
     "text": [
      "(-4.292613636363637,)\n"
     ]
    }
   ],
   "source": [
    "#q9 answer 4.29 less than the average\n",
    "\n",
    "query='''\n",
    "\n",
    "\n",
    "select min(diff) FROM (\n",
    "SELECT meal_id,type,price, avg, (price-avg) AS diff \n",
    "FROM (SELECT meal_id, type, price, avg(price) OVER (PARTITION BY type) as avg\n",
    "FROM meals ORDER BY meal_id) ) where type ='italian'\n",
    "\n",
    "'''\n",
    "allrowsSelect(conn,query)"
   ]
  },
  {
   "cell_type": "code",
   "execution_count": null,
   "id": "2de09b20",
   "metadata": {},
   "outputs": [],
   "source": []
  },
  {
   "cell_type": "code",
   "execution_count": null,
   "id": "101b9150",
   "metadata": {},
   "outputs": [],
   "source": []
  },
  {
   "cell_type": "code",
   "execution_count": null,
   "id": "ef44c283",
   "metadata": {},
   "outputs": [],
   "source": []
  },
  {
   "cell_type": "code",
   "execution_count": null,
   "id": "f5004516",
   "metadata": {},
   "outputs": [],
   "source": []
  }
 ],
 "metadata": {
  "kernelspec": {
   "display_name": "Python 3",
   "language": "python",
   "name": "python3"
  },
  "language_info": {
   "codemirror_mode": {
    "name": "ipython",
    "version": 3
   },
   "file_extension": ".py",
   "mimetype": "text/x-python",
   "name": "python",
   "nbconvert_exporter": "python",
   "pygments_lexer": "ipython3",
   "version": "3.8.8"
  }
 },
 "nbformat": 4,
 "nbformat_minor": 5
}
