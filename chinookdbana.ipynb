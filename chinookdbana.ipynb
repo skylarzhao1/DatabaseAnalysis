{
 "cells": [
  {
   "cell_type": "code",
   "execution_count": 133,
   "id": "e97d3fdd",
   "metadata": {},
   "outputs": [],
   "source": [
    "import sqlite3\n",
    "import pandas as pd\n",
    "import os\n",
    "import pandasql"
   ]
  },
  {
   "cell_type": "code",
   "execution_count": 134,
   "id": "49028631",
   "metadata": {},
   "outputs": [],
   "source": [
    "conn = sqlite3.connect(\"chinook.db\")\n"
   ]
  },
  {
   "cell_type": "code",
   "execution_count": 135,
   "id": "53e8c22e",
   "metadata": {},
   "outputs": [],
   "source": [
    "def allrowsSelect(conn,query):\n",
    "    cursor = conn.execute(query)\n",
    "    for row in cursor:\n",
    "        print(row)"
   ]
  },
  {
   "cell_type": "code",
   "execution_count": 136,
   "id": "0cef1dc5",
   "metadata": {},
   "outputs": [
    {
     "name": "stdout",
     "output_type": "stream",
     "text": [
      "('Edinburgh ', 7)\n"
     ]
    }
   ],
   "source": [
    "#q1\n",
    "# ('Edinburgh ', 7)\n",
    "query='''\n",
    "SELECT BillingCity,\n",
    "COUNT(INVOICEID)\n",
    "FROM invoices\n",
    "where BILLINGCOUNTRY = 'United Kingdom'\n",
    "GROUP BY BILLINGCity\n",
    "ORDER BY  COUNT(INVOICEID) DESC\n",
    "Limit 1\n",
    "offset 1\n",
    "\n",
    "'''\n",
    "allrowsSelect(conn,query)"
   ]
  },
  {
   "cell_type": "code",
   "execution_count": 137,
   "id": "d57abc89",
   "metadata": {},
   "outputs": [
    {
     "name": "stdout",
     "output_type": "stream",
     "text": [
      "(37.97,)\n"
     ]
    }
   ],
   "source": [
    "# q2 what is the average numbers of tracks purchased per customer?\n",
    "# \n",
    "# (37.97,)\n",
    "query='''\n",
    "\n",
    "select round((Quantity*1.0/num_customers),2)\n",
    "\n",
    "From(\n",
    "SELECT  (\n",
    "    SELECT count(CustomerId)\n",
    "    FROM   customers\n",
    ") AS num_customers,\n",
    "(\n",
    "    SELECT Sum(Quantity)\n",
    "    FROM   invoice_items\n",
    ") AS  Quantity\n",
    ")\n",
    "'''\n",
    "allrowsSelect(conn,query)"
   ]
  },
  {
   "cell_type": "code",
   "execution_count": 138,
   "id": "9b134376",
   "metadata": {},
   "outputs": [
    {
     "name": "stdout",
     "output_type": "stream",
     "text": [
      "('Jazz', 130)\n"
     ]
    }
   ],
   "source": [
    "#q3 How many albums have jazz tracks? \n",
    "# join genres tracks albums , genres ID \n",
    "# ('Jazz', 130)\n",
    "\n",
    "query='''\n",
    "select g.Name, COUNT (a.AlbumId)\n",
    "FROM albums a\n",
    "inner join tracks t on t.AlbumId=a.AlbumId\n",
    "inner join genres g on t.GenreId=g.GenreId\n",
    "Where g.Name=\"Jazz\"\n",
    "\n",
    "\n",
    "\n",
    "'''\n",
    "allrowsSelect(conn,query)"
   ]
  },
  {
   "cell_type": "code",
   "execution_count": 139,
   "id": "6fd530c3",
   "metadata": {},
   "outputs": [
    {
     "name": "stdout",
     "output_type": "stream",
     "text": [
      "(9,)\n"
     ]
    }
   ],
   "source": [
    "#q4. How many comedy tracks were purchased in total? (Note you can ignore the Quantity  field in the invoice_items table which is always one.) \n",
    "# join the genres, tracks,(TrackId)  invoice_items (TrackId)\n",
    "\n",
    "# Answer  :9\n",
    "query='''\n",
    "\n",
    "\n",
    "select  COUNT(it.Quantity)\n",
    "FROM invoice_items it\n",
    "INNER JOIN  tracks t on T.TrackId=it.TrackId\n",
    "INNER JOIN Genres g on t.GenreId=g.GenreId\n",
    "WHERE g.Name=\"Comedy\"\n",
    "\n",
    "\n",
    "\n",
    "'''\n",
    "allrowsSelect(conn,query)\n"
   ]
  },
  {
   "cell_type": "code",
   "execution_count": 140,
   "id": "bc26baf4",
   "metadata": {},
   "outputs": [
    {
     "name": "stdout",
     "output_type": "stream",
     "text": [
      "('Leonie', 'Köhler', 9)\n"
     ]
    }
   ],
   "source": [
    "#q5 what is the name of customer who purchesed the most Blues tracks?\n",
    "\n",
    "\n",
    "# 'Leonie', 'Köhler',9\n",
    "query='''\n",
    "\n",
    "select c.FirstName, c.LastName, COUNT(i.CustomerId)\n",
    "FROM customers c \n",
    "INNER JOIN invoices i ON c.CustomerId=i.CustomerId\n",
    "INNER JOIN invoice_items il on i.InvoiceId= il.InvoiceId\n",
    "INNER JOIN Tracks t on il.TrackId=t.TrackId\n",
    "INNER JOIN Genres g on t.GenreId=g.GenreId\n",
    "WHERE g.Name=\"Blues\"\n",
    "GROUP BY i.CustomerId,c.FirstName,c.LastName\n",
    "ORDER BY COUNT(i.CustomerId) DESC\n",
    "LIMIT 1\n",
    "\n",
    "\n",
    "\n",
    "'''\n",
    "allrowsSelect(conn,query)"
   ]
  },
  {
   "cell_type": "code",
   "execution_count": 141,
   "id": "f0b77d83",
   "metadata": {},
   "outputs": [
    {
     "name": "stdout",
     "output_type": "stream",
     "text": [
      "('Black Hole Sun',)\n"
     ]
    }
   ],
   "source": [
    "# q6 On the Grunge playlist, what is the name of the track that comes second  alphabetically? \n",
    "\n",
    "# ('Black Hole Sun',)\n",
    "query='''\n",
    "select t.Name\n",
    "from playlists p\n",
    "Inner join playlist_track pt on p.PlaylistId=pt.PlaylistId\n",
    "Inner join tracks t on t.TrackId=pt.TrackId\n",
    "where p.Name='Grunge'\n",
    "order by t.Name\n",
    "limit 1\n",
    "offset 1\n",
    "\n",
    "\n",
    "'''\n",
    "allrowsSelect(conn,query)"
   ]
  },
  {
   "cell_type": "code",
   "execution_count": 142,
   "id": "9d69fea1",
   "metadata": {},
   "outputs": [
    {
     "name": "stdout",
     "output_type": "stream",
     "text": [
      "(10,)\n"
     ]
    }
   ],
   "source": [
    "#q7 \n",
    "\n",
    "# (10,)\n",
    "query='''\n",
    "select Count(*)\n",
    "From(select Y.AlbumId, Sum(TOTAL) As Grand_total\n",
    "From(SELECT X.AlbumId, X.UnitPrice* X.Quantity AS TOTAL\n",
    "From (SELECT  a.AlbumId,il.UnitPrice, il.Quantity \n",
    "FROM albums a \n",
    "Inner join tracks t on t.AlbumId=a.AlbumId\n",
    "Inner join invoice_items il on il.TrackId=t.TrackId\n",
    ")As X)As Y\n",
    "\n",
    "Group by Y.AlbumId\n",
    "Having Grand_total>20)\n",
    "\n",
    "\n",
    "'''\n",
    "allrowsSelect(conn,query)"
   ]
  },
  {
   "cell_type": "code",
   "execution_count": 143,
   "id": "c9ffd78f",
   "metadata": {},
   "outputs": [
    {
     "name": "stdout",
     "output_type": "stream",
     "text": [
      "(19.7,)\n"
     ]
    }
   ],
   "source": [
    "# q8\n",
    "# 19.7\n",
    "query='''\n",
    "select round(tot_customers*1.0/tot_supp,1)\n",
    "from(\n",
    "SELECT  (\n",
    "    SELECT Count(*)\n",
    "    FROM   customers\n",
    ") AS tot_customers,\n",
    "(\n",
    "    SELECT  SupportRepId\n",
    "    FROM   customers\n",
    "    group by SupportRepId\n",
    ") AS tot_supp\n",
    ")\n",
    "'''\n",
    "\n",
    "allrowsSelect(conn,query)\n",
    "\n"
   ]
  },
  {
   "cell_type": "code",
   "execution_count": 144,
   "id": "bce60445",
   "metadata": {},
   "outputs": [
    {
     "name": "stdout",
     "output_type": "stream",
     "text": [
      "(4,)\n"
     ]
    }
   ],
   "source": [
    "# q9  How many genres had sales exceeding $200? \n",
    "# join genres, tracks (GenreId),unit price\n",
    "# answer 4\n",
    "query='''\n",
    "select count(*) \n",
    "from (\n",
    "select X.GenreId, sum(Total)\n",
    "From(select g.GenreId,t.UnitPrice As Total\n",
    "From genres g \n",
    "Inner Join tracks t on g.GenreId=t.GenreId)As X\n",
    "Group By X.GenreId\n",
    "Having sum(Total)>200)\n",
    "'''\n",
    "\n",
    "allrowsSelect(conn,query)"
   ]
  },
  {
   "cell_type": "code",
   "execution_count": 145,
   "id": "618500a7",
   "metadata": {},
   "outputs": [
    {
     "name": "stdout",
     "output_type": "stream",
     "text": [
      "('Deep Purple', 11)\n"
     ]
    }
   ],
   "source": [
    "#q10  What artist has the third most albums in the database? \n",
    "# join artists ArtistId, albums(ArtistId)\n",
    "# answer 'Deep Purple', 11\n",
    "\n",
    "query='''\n",
    "\n",
    "select Ar.Name,Count(Al.\n",
    "AlbumId)\n",
    "\n",
    "from artists Ar \n",
    "Inner join albums Al on Ar.ArtistId=Al.ArtistId\n",
    "Group By Ar.ArtistId\n",
    "order by Count(Al.\n",
    "AlbumId) desc\n",
    "Limit 1\n",
    "offset 2\n",
    "\n",
    "\n",
    "'''\n",
    "\n",
    "allrowsSelect(conn,query)"
   ]
  },
  {
   "cell_type": "code",
   "execution_count": 146,
   "id": "589163c1",
   "metadata": {},
   "outputs": [
    {
     "name": "stdout",
     "output_type": "stream",
     "text": [
      "('Fools',)\n"
     ]
    }
   ],
   "source": [
    "# q11Find the names of the tracks on the album \"Fireball\" and put them in alphabetical  order. What is the name of the third track (in alphabetical order, not in the order in which  they appeared on the album)? \n",
    "# answer ： ('Fools',)\n",
    "\n",
    "query='''\n",
    "select t.Name\n",
    "From tracks t\n",
    "inner join albums AL  on t.AlbumId=AL.AlbumId\n",
    "group by t.Name\n",
    "Having AL.Title=\"Fireball\"\n",
    "order by t.Name ASC\n",
    "limit 1\n",
    "offset 2\n",
    "\n",
    "\n",
    "\n",
    "'''\n",
    "allrowsSelect(conn,query)"
   ]
  },
  {
   "cell_type": "code",
   "execution_count": 147,
   "id": "d036b1e4",
   "metadata": {},
   "outputs": [
    {
     "name": "stdout",
     "output_type": "stream",
     "text": [
      "(71,)\n"
     ]
    }
   ],
   "source": [
    "# q12 How many artists in the database do not have any albums in the database?\n",
    "# inner join artists,albums\n",
    "# Answer:71\n",
    "\n",
    "\n",
    "query='''\n",
    "select Count(art.ArtistId)\n",
    "From artists art\n",
    "Left  join albums al on art.ArtistId= al.ArtistId\n",
    "where al.AlbumId IS NULL\n",
    "\n",
    "'''\n",
    "allrowsSelect(conn,query)\n"
   ]
  },
  {
   "cell_type": "code",
   "execution_count": 130,
   "id": "2a791576",
   "metadata": {},
   "outputs": [
    {
     "name": "stdout",
     "output_type": "stream",
     "text": [
      "(\"Monteverdi: L'Orfeo\", 66639.0)\n"
     ]
    }
   ],
   "source": [
    "# q13\n",
    "# Answer:(\"Monteverdi: L'Orfeo\", 66639.0)\n",
    "query='''\n",
    "\n",
    "select al.title, total(t.Milliseconds) \n",
    "from albums al \n",
    "Inner join tracks t on t.AlbumId=al.AlbumId\n",
    "group by al.AlbumId \n",
    "order by total(t.Milliseconds) \n",
    "Limit 1\n",
    "offset 1\n",
    "\n",
    "\n",
    "'''\n",
    "allrowsSelect(conn,query)"
   ]
  },
  {
   "cell_type": "code",
   "execution_count": 131,
   "id": "dccfbf6e",
   "metadata": {},
   "outputs": [
    {
     "name": "stdout",
     "output_type": "stream",
     "text": [
      "('Amsterdam', 7)\n",
      "('Bangalore', 6)\n",
      "('Berlin', 14)\n",
      "('Bordeaux', 7)\n",
      "('Boston', 7)\n",
      "('Brasília', 7)\n",
      "('Brussels', 7)\n",
      "('Budapest', 7)\n",
      "('Buenos Aires', 7)\n",
      "('Chicago', 7)\n",
      "('Copenhagen', 7)\n",
      "('Cupertino', 7)\n",
      "('Delhi', 7)\n",
      "('Dijon', 7)\n",
      "('Dublin', 7)\n",
      "('Edinburgh ', 7)\n",
      "('Edmonton', 7)\n",
      "('Fort Worth', 7)\n",
      "('Frankfurt', 7)\n",
      "('Halifax', 7)\n",
      "('Helsinki', 7)\n",
      "('Lisbon', 7)\n",
      "('London', 14)\n",
      "('Lyon', 7)\n",
      "('Madison', 7)\n",
      "('Madrid', 7)\n",
      "('Montréal', 7)\n",
      "('Mountain View', 14)\n",
      "('New York', 7)\n",
      "('Orlando', 7)\n",
      "('Oslo', 7)\n",
      "('Ottawa', 7)\n",
      "('Paris', 14)\n",
      "('Porto', 7)\n",
      "('Prague', 14)\n",
      "('Redmond', 7)\n",
      "('Reno', 7)\n",
      "('Rio de Janeiro', 7)\n",
      "('Rome', 7)\n",
      "('Salt Lake City', 7)\n",
      "('Santiago', 7)\n",
      "('Sidney', 7)\n",
      "('Stockholm', 7)\n",
      "('Stuttgart', 7)\n",
      "('São José dos Campos', 7)\n",
      "('São Paulo', 14)\n",
      "('Toronto', 7)\n",
      "('Tucson', 7)\n",
      "('Vancouver', 7)\n",
      "('Vienne', 7)\n",
      "('Warsaw', 7)\n",
      "('Winnipeg', 7)\n",
      "('Yellowknife', 7)\n"
     ]
    }
   ],
   "source": [
    "# q14\n",
    "#Find the number of invoices per billing city. Although there are 53 billing cities in the  invoices table, there are are only a few distinct values of invoices per city. What are all  of these values?\n",
    "#\n",
    "query='''\n",
    "select BillingCity, count(*) as billing_city\n",
    "from invoices\n",
    "group by BillingCity\n",
    "\n",
    "'''\n",
    "allrowsSelect(conn,query)"
   ]
  },
  {
   "cell_type": "code",
   "execution_count": 132,
   "id": "95cb0b84",
   "metadata": {},
   "outputs": [
    {
     "name": "stdout",
     "output_type": "stream",
     "text": [
      "(7,)\n",
      "(6,)\n",
      "(14,)\n"
     ]
    }
   ],
   "source": [
    "#q14\n",
    "# Ans: 7, 6, 14\n",
    "''''''\n",
    "query='''\n",
    "select distinct bil\n",
    "from (select BillingCity, count(*)  As bil\n",
    "      from invoices\n",
    "      group by BillingCity)\n",
    "'''\n",
    "allrowsSelect(conn,query)"
   ]
  },
  {
   "cell_type": "code",
   "execution_count": null,
   "id": "b60b831b",
   "metadata": {},
   "outputs": [],
   "source": []
  },
  {
   "cell_type": "code",
   "execution_count": null,
   "id": "eeee39ba",
   "metadata": {},
   "outputs": [],
   "source": []
  }
 ],
 "metadata": {
  "kernelspec": {
   "display_name": "Python 3",
   "language": "python",
   "name": "python3"
  },
  "language_info": {
   "codemirror_mode": {
    "name": "ipython",
    "version": 3
   },
   "file_extension": ".py",
   "mimetype": "text/x-python",
   "name": "python",
   "nbconvert_exporter": "python",
   "pygments_lexer": "ipython3",
   "version": "3.8.8"
  }
 },
 "nbformat": 4,
 "nbformat_minor": 5
}
